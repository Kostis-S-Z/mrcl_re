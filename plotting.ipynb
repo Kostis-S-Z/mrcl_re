{
 "cells": [
  {
   "cell_type": "code",
   "execution_count": null,
   "outputs": [],
   "source": [
    "import matplotlib.pyplot as plt\n",
    "import numpy as np\n",
    "import json \n",
    "import scipy.stats\n",
    "\n",
    "\n",
    "def get_mean_and_std(filename, points, confidence=0.95):\n",
    "    mean = []\n",
    "    std = []\n",
    "    for point in points:\n",
    "        with open(f\"{filename}_{point}.json\", 'r') as f:\n",
    "            results = json.load(f)\n",
    "\n",
    "        n = len(results)\n",
    "        results_np = np.array(results).astype(np.float)\n",
    "        \n",
    "        se = scipy.stats.sem(results_np)\n",
    "        std_c = se * scipy.stats.t.ppf((1 + confidence) / 2., n-1)\n",
    "        \n",
    "        mean.append(np.mean(results_np))  \n",
    "        std.append(std_c)\n",
    "\n",
    "    mean = np.array(mean)\n",
    "    std = np.array(std)\n",
    "    return mean, std\n",
    "\n",
    "\n",
    "def plot_evaluation_results(methods):\n",
    "    for name, path in methods.items():\n",
    "        scartch_train, scartch_train_std = get_mean_and_std(path, points)\n",
    "        plt.plot(points, scartch_train, label=name)\n",
    "        plt.fill_between(points, scartch_train-scartch_train_std, scartch_train+scartch_train_std, alpha = 0.3)\n",
    "    plt.xlabel(\"Number of classes\")\n",
    "    plt.ylabel(\"Accuracy\")\n",
    "    plt.legend()\n",
    "    plt.show()\n",
    "\n",
    "points = [10, 50, 75, 100, 150, 200]\n",
    "\n",
    "methods_train = {\"Scratch\": \"results/omniglot/scratch/mrcl_omniglot_training\",\n",
    "                 \"SR-NN\": \"results/omniglot/sr_nn/sr_nn_eval_train\",\n",
    "                 #\"SR-NN-ALL\": \"results/omniglot/sr_nn/sr_nn_eval_train_all\",\n",
    "                 \"MRCL\": \"results/omniglot/mrcl/mrcl_omniglot_training\",\n",
    "                 \"SR-NN-0.1\": \"results/omniglot/sr_nn/beta_search/sr_nn_eval_train_0_01\",\n",
    "                 \"SR-NN-0.01\": \"results/omniglot/sr_nn/beta_search/sr_nn_eval_train_0_01\",\n",
    "                 \"SR-NN-0.5\": \"results/omniglot/sr_nn/beta_search/sr_nn_eval_train_0_5\",\n",
    "                 \"SR-NN-0.05\": \"results/omniglot/sr_nn/beta_search/sr_nn_eval_train_0_05\",\n",
    "                 \"SR-NN-0.005\": \"results/omniglot/sr_nn/beta_search/sr_nn_eval_train_0_005\"}\n",
    "\n",
    "methods_test = {\"Scratch\": \"results/omniglot/scratch/mrcl_omniglot_testing\",\n",
    "                \"SR-NN\": \"results/omniglot/sr_nn/sr_nn_eval_test\",\n",
    "                #\"SR-NN-ALL\": \"results/omniglot/sr_nn/sr_nn_eval_test_all\",\n",
    "                \"MRCL\": \"results/omniglot/mrcl/mrcl_omniglot_testing\",\n",
    "                \"SR-NN-0.1\": \"results/omniglot/sr_nn/beta_search/sr_nn_eval_test_0_1\",\n",
    "                \"SR-NN-0.01\": \"results/omniglot/sr_nn/beta_search/sr_nn_eval_test_0_01\",\n",
    "                \"SR-NN-0.5\": \"results/omniglot/sr_nn/beta_search/sr_nn_eval_test_0_5\",\n",
    "                \"SR-NN-0.05\": \"results/omniglot/sr_nn/beta_search/sr_nn_eval_test_0_05\",\n",
    "                \"SR-NN-0.005\": \"results/omniglot/sr_nn/beta_search/sr_nn_eval_test_0_005\"}\n",
    "\n",
    "plot_evaluation_results(methods_train)\n",
    "plot_evaluation_results(methods_test)"
   ],
   "metadata": {
    "collapsed": false,
    "pycharm": {
     "name": "#%%\n"
    }
   }
  },
  {
   "cell_type": "code",
   "execution_count": null,
   "outputs": [],
   "source": [],
   "metadata": {
    "collapsed": false,
    "pycharm": {
     "name": "#%%\n"
    }
   }
  }
 ],
 "metadata": {
  "kernelspec": {
   "display_name": "mrcl-ours",
   "language": "python",
   "name": "mrcl-ours"
  },
  "language_info": {
   "codemirror_mode": {
    "name": "ipython",
    "version": 3
   },
   "file_extension": ".py",
   "mimetype": "text/x-python",
   "name": "python",
   "nbconvert_exporter": "python",
   "pygments_lexer": "ipython3",
   "version": "3.6.8"
  },
  "pycharm": {
   "stem_cell": {
    "cell_type": "raw",
    "source": [],
    "metadata": {
     "collapsed": false
    }
   }
  }
 },
 "nbformat": 4,
 "nbformat_minor": 2
}